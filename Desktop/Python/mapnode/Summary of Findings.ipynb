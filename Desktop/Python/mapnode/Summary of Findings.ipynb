{
 "metadata": {
  "name": ""
 },
 "nbformat": 3,
 "nbformat_minor": 0,
 "worksheets": [
  {
   "cells": [
    {
     "cell_type": "raw",
     "metadata": {},
     "source": [
      "We consider the question of how the ratio between euclidean distance and route distance vary accross distances.  \n",
      "\n",
      "We considered several datasets for the question, on many scales, drawn from different sources and accross continents.  The results were very interesting, the strong linearity of the correlation between ED and RD was strong indication for scale invariance of the statistics RD/ED.  The datasets we considered are listed below, with estimates for the slope of the regression line and their pearson coefficients:\n",
      "\n"
     ]
    },
    {
     "cell_type": "code",
     "collapsed": false,
     "input": [
      "\n",
      "import pandas as pd\n",
      "import numpy as np\n",
      "import scipy as sp\n",
      "from mapnode import MapClient\n",
      "client = MapClient(api_key='AjXDakgWGsf-NVH1pOIKY0PStr1RBH50QNHYBRpSLOZeBAa_ancvEGHTW1mVJTmr')\n",
      "from pandas import DataFrame, Series\n"
     ],
     "language": "python",
     "metadata": {},
     "outputs": [],
     "prompt_number": 1
    },
    {
     "cell_type": "code",
     "collapsed": false,
     "input": [
      "datasets = ['ZipcodesUSA', 'Boston Permits','Walmarts USA', 'Farmers Market USA', '100Homes', '100homes_Farmer_Market', '100Homes_Walmart', 'Paris Hotels', 'German Bowling Centres', 'Engergy Retail Italy'] "
     ],
     "language": "python",
     "metadata": {},
     "outputs": [],
     "prompt_number": 3
    },
    {
     "cell_type": "code",
     "collapsed": false,
     "input": [
      "series = pd.Series(index=datasets)"
     ],
     "language": "python",
     "metadata": {},
     "outputs": [],
     "prompt_number": 11
    },
    {
     "cell_type": "code",
     "collapsed": false,
     "input": [
      "a = float(float(7000)/float(5600))\n",
      "series[0]=a\n",
      "\n",
      "series['100Homes_Walmart']=float(4040)/float(3500)\n",
      "series['100homes_Farmer_Market']=float(4000)/float(3500)\n",
      "series['100Homes']=float(1250)/float(1075)\n",
      "series['Paris Hotels']=float(80)/float(58)\n",
      "series['German Bowling Centres']=float(880)/float(700)\n",
      "series['Boston Permits']= float(19)/float(14)\n",
      "series['Farmers Market USA']= float(5100)/float(4400)\n",
      "series['Walmarts USA']= float(4880)/float(4000)\n",
      "series['Engergy Retail Italy']= float(1400)/float(1000)\n",
      "\n"
     ],
     "language": "python",
     "metadata": {},
     "outputs": [],
     "prompt_number": 41
    },
    {
     "cell_type": "code",
     "collapsed": false,
     "input": [
      "series"
     ],
     "language": "python",
     "metadata": {},
     "outputs": [
      {
       "metadata": {},
       "output_type": "pyout",
       "prompt_number": 42,
       "text": [
        "ZipcodesUSA               1.250000\n",
        "Boston Permits            1.357143\n",
        "Walmarts USA              1.220000\n",
        "Farmers Market USA        1.159091\n",
        "100Homes                  1.162791\n",
        "100homes_Farmer_Market    1.142857\n",
        "100Homes_Walmart          1.154286\n",
        "Paris Hotels              1.379310\n",
        "German Bowling Centres    1.257143\n",
        "Engergy Retail Italy      1.400000\n",
        "dtype: float64"
       ]
      }
     ],
     "prompt_number": 42
    },
    {
     "cell_type": "code",
     "collapsed": false,
     "input": [
      "\n",
      "series.sort()"
     ],
     "language": "python",
     "metadata": {},
     "outputs": [],
     "prompt_number": 43
    },
    {
     "cell_type": "code",
     "collapsed": false,
     "input": [
      "series"
     ],
     "language": "python",
     "metadata": {},
     "outputs": [
      {
       "metadata": {},
       "output_type": "pyout",
       "prompt_number": 44,
       "text": [
        "100homes_Farmer_Market    1.142857\n",
        "100Homes_Walmart          1.154286\n",
        "Farmers Market USA        1.159091\n",
        "100Homes                  1.162791\n",
        "Walmarts USA              1.220000\n",
        "ZipcodesUSA               1.250000\n",
        "German Bowling Centres    1.257143\n",
        "Boston Permits            1.357143\n",
        "Paris Hotels              1.379310\n",
        "Engergy Retail Italy      1.400000\n",
        "dtype: float64"
       ]
      }
     ],
     "prompt_number": 44
    },
    {
     "cell_type": "raw",
     "metadata": {},
     "source": [
      "Some comments:\n",
      "\n",
      "Italy is not convex and it's in Europe, so not surprised it's ratio is highest.\n",
      "\n",
      "It is very interesting that we have differences from homes, markets, and walmart.  markets and walmarts are either central or close to highways.  I did not expect the homes to have small stretch, but can look into the data to see if they are close to highways.  \n",
      "\n",
      "Zip codes and Walmarts are similar.  I am pretty confident about the Zip Code data. \n",
      "\n",
      "Boston Permits is to be expected, as it is an old city, not as old as European cities, but even compared to more central places in Europe (PAris) it fares well in efficient. \n",
      "\n",
      "It would be interesting to see what other statistics can distinguish between the datasets above.\n",
      "\n",
      "\n",
      "I am also amazed by how linear things really are.  \n",
      "\n",
      "\n",
      "A possbile area for error is my function for arclength.  I assumed perfectly sphereical earth.  \n"
     ]
    }
   ],
   "metadata": {}
  }
 ]
}